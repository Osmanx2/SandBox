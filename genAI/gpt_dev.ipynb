{
  "cells": [
    {
      "cell_type": "code",
      "execution_count": 39,
      "metadata": {
        "colab": {
          "base_uri": "https://localhost:8080/"
        },
        "id": "h5hjCcLDr2WC",
        "outputId": "ccc60f0c-fd78-4dbe-8598-0512d1036aad"
      },
      "outputs": [
        {
          "name": "stdout",
          "output_type": "stream",
          "text": [
            "/bin/sh: wget: command not found\n"
          ]
        }
      ],
      "source": [
        "# We always start with a dataset to train on. Let's download the tiny shakespeare dataset\n",
        "!wget https://raw.githubusercontent.com/karpathy/char-rnn/master/data/tinyshakespeare/input.txt"
      ]
    },
    {
      "cell_type": "code",
      "execution_count": 2,
      "metadata": {
        "id": "O6medjfRsLD9"
      },
      "outputs": [],
      "source": [
        "# read it in to inspect it\n",
        "with open('ivan vazov input.txt', 'r', encoding='utf-8') as f:\n",
        "    text = f.read()"
      ]
    },
    {
      "cell_type": "code",
      "execution_count": 3,
      "metadata": {
        "colab": {
          "base_uri": "https://localhost:8080/"
        },
        "id": "6xWI_VyAsN8F",
        "outputId": "ed819dd0-72e5-40a6-d2ed-928ff73bfda6"
      },
      "outputs": [
        {
          "name": "stdout",
          "output_type": "stream",
          "text": [
            "length of dataset in characters:  742496\n"
          ]
        }
      ],
      "source": [
        "print(\"length of dataset in characters: \", len(text))"
      ]
    },
    {
      "cell_type": "code",
      "execution_count": 4,
      "metadata": {
        "colab": {
          "base_uri": "https://localhost:8080/"
        },
        "id": "2c5V0FvqseE0",
        "outputId": "25ca7adc-b8c0-42d1-b08c-e0863c5c314e"
      },
      "outputs": [
        {
          "name": "stdout",
          "output_type": "stream",
          "text": [
            "\tИван Вазов\n",
            "\tПод игото\n",
            "\n",
            "\n",
            "\n",
            "\tПрокуден от България в 1887 година, прекарах около една година в Одеса. Много скръб, много мъки изпитвах там по изгубеното отечество. Умът ми, сърцето ми, душата ми постоянно летяха към него. Но ето, дойде ми вдъхновението да напиша тоя роман и аз задишах пак въздуха на България. Хиляди спомени оживяха, хиляди картини, ярки и хубави, плениха моя умствен поглед, картини от бурния живот на отечеството през Априлското въстание. О, видения, как услаждахте душата ми! О, съдбоносни дни, какви трепети пробуждахте в нея! Аз забравих мъките на изгнанието. Аз бях честит, къпейки се във вълните на скъпите и незабравими спомени: те ме въодушевяваха, те ми дадоха нов полет и нова младост на музата ми — и от бедната стаичка в отстранената одеска улица книгата ми обиколи цяла България, мина границите и профуча из Европа. И аз благославям сега това изгнание.\n",
            "\n",
            "\tИван Вазов\n",
            "\t19 окт. 1920 г.\n",
            "\tСофия\n",
            "\n",
            "\n",
            "\n",
            "\tЧаст първа\n",
            "\n",
            "\tI. Гост\n",
            "\n",
            "\tТая прохладна майска вечер чорбаджи Марко, гологлав, \n"
          ]
        }
      ],
      "source": [
        "# let's look at the first 1000 characters\n",
        "print(text[:1000])"
      ]
    },
    {
      "cell_type": "code",
      "execution_count": 5,
      "metadata": {
        "colab": {
          "base_uri": "https://localhost:8080/"
        },
        "id": "0e-Rbyr8sfM8",
        "outputId": "f34e94a9-5b44-4cf3-885b-986731929109"
      },
      "outputs": [
        {
          "name": "stdout",
          "output_type": "stream",
          "text": [
            "\t\n",
            " !$()*,-./0123456789:;=?ABDEIMORSVX[]_`abcdefghiklmnopqrstuvz|«»éІАБВГДЕЖЗИЙКЛМНОПРСТУФХЦЧШЩЮЯабвгдежзийклмнопрстуфхцчшщъыьюяі–—“„…﻿\n",
            "134\n"
          ]
        }
      ],
      "source": [
        "# here are all the unique characters that occur in this text\n",
        "chars = sorted(list(set(text)))\n",
        "vocab_size = len(chars)\n",
        "print(''.join(chars))\n",
        "print(vocab_size)"
      ]
    },
    {
      "cell_type": "code",
      "execution_count": 6,
      "metadata": {
        "colab": {
          "base_uri": "https://localhost:8080/"
        },
        "id": "Yw1LKNCgwjj1",
        "outputId": "86fcc21c-2cf7-40d9-cd7b-b5a253da4459"
      },
      "outputs": [
        {
          "name": "stdout",
          "output_type": "stream",
          "text": [
            "[48, 49, 49, 2, 59, 48, 45, 57, 45]\n",
            "hii there\n"
          ]
        }
      ],
      "source": [
        "\n",
        "# this is the simplest tokenizer as GPT uses tiktoker or more advanced tokenizers\n",
        "# google uses https://github.com/google/sentencepiece\n",
        "\n",
        "# create a mapping from characters to integers\n",
        "stoi = { ch:i for i,ch in enumerate(chars) }\n",
        "itos = { i:ch for i,ch in enumerate(chars) }\n",
        "encode = lambda s: [stoi[c] for c in s] # encoder: take a string, output a list of integers\n",
        "decode = lambda l: ''.join([itos[i] for i in l]) # decoder: take a list of integers, output a string\n",
        "\n",
        "print(encode(\"hii there\"))\n",
        "print(decode(encode(\"hii there\")))"
      ]
    },
    {
      "cell_type": "code",
      "execution_count": 7,
      "metadata": {
        "colab": {
          "base_uri": "https://localhost:8080/"
        },
        "id": "YJb0OXPwzvqg",
        "outputId": "db7297cc-36a9-4fae-e941-e7bb9e0e91d1"
      },
      "outputs": [
        {
          "name": "stdout",
          "output_type": "stream",
          "text": [
            "torch.Size([742496]) torch.int64\n",
            "tensor([133,   0,  76,  98,  96, 109,   2,  70,  96, 103, 110,  98,   1,   0,\n",
            "         83, 110, 100,   2, 104,  99, 110, 114, 110,   1,   1,   1,   1,   0,\n",
            "         83, 112, 110, 106, 115, 100, 101, 109,   2, 110, 114,   2,  69, 122,\n",
            "        107,  99,  96, 112, 104, 126,   2,  98,   2,  13,  20,  20,  19,   2,\n",
            "         99, 110, 100, 104, 109,  96,   8,   2, 111, 112, 101, 106,  96, 112,\n",
            "         96, 117,   2, 110, 106, 110, 107, 110,   2, 101, 100, 109,  96,   2,\n",
            "         99, 110, 100, 104, 109,  96,   2,  98,   2,  82, 100, 101, 113,  96,\n",
            "         10,   2,  80, 109, 110,  99, 110,   2, 113, 106, 112, 122,  97,   8,\n",
            "          2, 108, 109, 110,  99, 110,   2, 108, 122, 106, 104,   2, 104, 103,\n",
            "        111, 104, 114,  98,  96, 117,   2, 114,  96, 108,   2, 111, 110,   2,\n",
            "        104, 103,  99, 115,  97, 101, 109, 110, 114, 110,   2, 110, 114, 101,\n",
            "        119, 101, 113, 114,  98, 110,  10,   2,  87, 108, 122, 114,   2, 108,\n",
            "        104,   8,   2, 113, 122, 112, 118, 101, 114, 110,   2, 108, 104,   8,\n",
            "          2, 100, 115, 120,  96, 114,  96,   2, 108, 104,   2, 111, 110, 113,\n",
            "        114, 110, 126, 109, 109, 110,   2, 107, 101, 114, 126, 117,  96,   2,\n",
            "        106, 122, 108,   2, 109, 101,  99, 110,  10,   2,  81, 110,   2, 101,\n",
            "        114, 110,   8,   2, 100, 110, 105, 100, 101,   2, 108, 104,   2,  98,\n",
            "        100, 122, 117, 109, 110,  98, 101, 109, 104, 101, 114, 110,   2, 100,\n",
            "         96,   2, 109,  96, 111, 104, 120,  96,   2, 114, 110, 126,   2, 112,\n",
            "        110, 108,  96, 109,   2, 104,   2,  96, 103,   2, 103,  96, 100, 104,\n",
            "        120,  96, 117,   2, 111,  96, 106,   2,  98, 122, 103, 100, 115, 117,\n",
            "         96,   2, 109,  96,   2,  69, 122, 107,  99,  96, 112, 104, 126,  10,\n",
            "          2,  89, 104, 107, 126, 100, 104,   2, 113, 111, 110, 108, 101, 109,\n",
            "        104,   2, 110, 102, 104,  98, 126, 117,  96,   8,   2, 117, 104, 107,\n",
            "        126, 100, 104,   2, 106,  96, 112, 114, 104, 109, 104,   8,   2, 126,\n",
            "        112, 106, 104,   2, 104,   2, 117, 115,  97,  96,  98, 104,   8,   2,\n",
            "        111, 107, 101, 109, 104, 117,  96,   2, 108, 110, 126,   2, 115, 108,\n",
            "        113, 114,  98, 101, 109,   2, 111, 110,  99, 107, 101, 100,   8,   2,\n",
            "        106,  96, 112, 114, 104, 109, 104,   2, 110, 114,   2,  97, 115, 112,\n",
            "        109, 104, 126,   2, 102, 104,  98, 110, 114,   2, 109,  96,   2, 110,\n",
            "        114, 101, 119, 101, 113, 114,  98, 110, 114, 110,   2, 111, 112, 101,\n",
            "        103,   2,  68, 111, 112, 104, 107, 113, 106, 110, 114, 110,   2,  98,\n",
            "        122, 113, 114,  96, 109, 104, 101,  10,   2,  82,   8,   2,  98, 104,\n",
            "        100, 101, 109, 104, 126,   8,   2, 106,  96, 106,   2, 115, 113, 107,\n",
            "         96, 102, 100,  96, 117, 114, 101,   2, 100, 115, 120,  96, 114,  96,\n",
            "          2, 108, 104,   3,   2,  82,   8,   2, 113, 122, 100,  97, 110, 109,\n",
            "        110, 113, 109, 104,   2, 100, 109, 104,   8,   2, 106,  96, 106,  98,\n",
            "        104,   2, 114, 112, 101, 111, 101, 114, 104,   2, 111, 112, 110,  97,\n",
            "        115, 102, 100,  96, 117, 114, 101,   2,  98,   2, 109, 101, 126,   3,\n",
            "          2,  68, 103,   2, 103,  96,  97, 112,  96,  98, 104, 117,   2, 108,\n",
            "        122, 106, 104, 114, 101,   2, 109,  96,   2, 104, 103,  99, 109,  96,\n",
            "        109, 104, 101, 114, 110,  10,   2,  68, 103,   2,  97, 126, 117,   2,\n",
            "        119, 101, 113, 114, 104, 114,   8,   2, 106, 122, 111, 101, 105, 106,\n",
            "        104,   2, 113, 101,   2,  98, 122,  98,   2,  98, 122, 107, 109, 104,\n",
            "        114, 101,   2, 109,  96,   2, 113, 106, 122, 111, 104, 114, 101,   2,\n",
            "        104,   2, 109, 101, 103,  96,  97, 112,  96,  98, 104, 108, 104,   2,\n",
            "        113, 111, 110, 108, 101, 109, 104,  22,   2, 114, 101,   2, 108, 101,\n",
            "          2,  98, 122, 110, 100, 115, 120, 101,  98, 126,  98,  96, 117,  96,\n",
            "          8,   2, 114, 101,   2, 108, 104,   2, 100,  96, 100, 110, 117,  96,\n",
            "          2, 109, 110,  98,   2, 111, 110, 107, 101, 114,   2, 104,   2, 109,\n",
            "        110,  98,  96,   2, 108, 107,  96, 100, 110, 113, 114,   2, 109,  96,\n",
            "          2, 108, 115, 103,  96, 114,  96,   2, 108, 104,   2, 129,   2, 104,\n",
            "          2, 110, 114,   2,  97, 101, 100, 109,  96, 114,  96,   2, 113, 114,\n",
            "         96, 104, 119, 106,  96,   2,  98,   2, 110, 114, 113, 114, 112,  96,\n",
            "        109, 101, 109,  96, 114,  96,   2, 110, 100, 101, 113, 106,  96,   2,\n",
            "        115, 107, 104, 118,  96,   2, 106, 109, 104,  99,  96, 114,  96,   2,\n",
            "        108, 104,   2, 110,  97, 104, 106, 110, 107, 104,   2, 118, 126, 107,\n",
            "         96,   2,  69, 122, 107,  99,  96, 112, 104, 126,   8,   2, 108, 104,\n",
            "        109,  96,   2,  99, 112,  96, 109, 104, 118, 104, 114, 101,   2, 104,\n",
            "          2, 111, 112, 110, 116, 115, 119,  96,   2, 104, 103,   2,  73,  98,\n",
            "        112, 110, 111,  96,  10,   2,  76,   2,  96, 103,   2,  97, 107,  96,\n",
            "         99, 110, 113, 107,  96,  98, 126, 108,   2, 113, 101,  99,  96,   2,\n",
            "        114, 110,  98,  96,   2, 104, 103,  99, 109,  96, 109, 104, 101,  10,\n",
            "          1,   1,   0,  76,  98,  96, 109,   2,  70,  96, 103, 110,  98,   1,\n",
            "          0,  13,  21,   2, 110, 106, 114,  10,   2,  13,  21,  14,  12,   2,\n",
            "         99,  10,   1,   0,  85, 110, 116, 104, 126,   1,   1,   1,   1,   0,\n",
            "         91,  96, 113, 114,   2, 111, 122, 112,  98,  96,   1,   1,   0,  30,\n",
            "         10,   2,  71, 110, 113, 114,   1,   1,   0,  86,  96, 126,   2, 111,\n",
            "        112, 110, 117, 107,  96, 100, 109,  96,   2, 108,  96, 105, 113, 106,\n",
            "         96,   2,  98, 101, 119, 101, 112,   2, 119, 110, 112,  97,  96, 100,\n",
            "        102, 104,   2,  80,  96, 112, 106, 110,   8,   2,  99, 110, 107, 110,\n",
            "         99, 107,  96,  98,   8,   2])\n"
          ]
        }
      ],
      "source": [
        "# let's now encode the entire text dataset and store it into a torch.Tensor\n",
        "import torch # we use PyTorch: https://pytorch.org\n",
        "data = torch.tensor(encode(text), dtype=torch.long)\n",
        "print(data.shape, data.dtype)\n",
        "print(data[:1000]) # the 1000 characters we looked at earier will go to the GPT look like this"
      ]
    },
    {
      "cell_type": "code",
      "execution_count": 8,
      "metadata": {
        "id": "f_WIXqxz0lU5"
      },
      "outputs": [],
      "source": [
        "# Let's now split up the data into train and validation sets\n",
        "n = int(0.9*len(data)) # first 90% will be train, rest val\n",
        "train_data = data[:n]\n",
        "val_data = data[n:]"
      ]
    },
    {
      "cell_type": "code",
      "execution_count": 9,
      "metadata": {
        "colab": {
          "base_uri": "https://localhost:8080/"
        },
        "id": "TD5Bj8Y6IAD4",
        "outputId": "bf23c586-1d33-4af1-b63d-ce6f90b0a528"
      },
      "outputs": [
        {
          "data": {
            "text/plain": [
              "tensor([133,   0,  76,  98,  96, 109,   2,  70,  96])"
            ]
          },
          "execution_count": 9,
          "metadata": {},
          "output_type": "execute_result"
        }
      ],
      "source": [
        "# this is the context lenght ie sequance feeded at one into the training model\n",
        "block_size = 8\n",
        "train_data[:block_size+1]"
      ]
    },
    {
      "cell_type": "code",
      "execution_count": 10,
      "metadata": {
        "colab": {
          "base_uri": "https://localhost:8080/"
        },
        "id": "9HXDe8vGJCEn",
        "outputId": "588663aa-1de5-4ef7-aba0-4a96fe828353"
      },
      "outputs": [
        {
          "name": "stdout",
          "output_type": "stream",
          "text": [
            "when input is tensor([133]) the target: 0\n",
            "when input is tensor([133,   0]) the target: 76\n",
            "when input is tensor([133,   0,  76]) the target: 98\n",
            "when input is tensor([133,   0,  76,  98]) the target: 96\n",
            "when input is tensor([133,   0,  76,  98,  96]) the target: 109\n",
            "when input is tensor([133,   0,  76,  98,  96, 109]) the target: 2\n",
            "when input is tensor([133,   0,  76,  98,  96, 109,   2]) the target: 70\n",
            "when input is tensor([133,   0,  76,  98,  96, 109,   2,  70]) the target: 96\n"
          ]
        }
      ],
      "source": [
        "#these are 8 individual examples in the context of \n",
        "# 18 => 47 likely to come next \n",
        "# in the context of 18, 47 => 56 comes next\n",
        "# check below exampe\n",
        "\n",
        "x = train_data[:block_size]\n",
        "y = train_data[1:block_size+1]\n",
        "for t in range(block_size):\n",
        "    context = x[:t+1]\n",
        "    target = y[t]\n",
        "    print(f\"when input is {context} the target: {target}\")"
      ]
    },
    {
      "cell_type": "code",
      "execution_count": 11,
      "metadata": {
        "colab": {
          "base_uri": "https://localhost:8080/"
        },
        "id": "Q3k1Czf7LuA9",
        "outputId": "4ea8e8a0-443c-49bb-b3bf-ba36e1712999"
      },
      "outputs": [
        {
          "name": "stdout",
          "output_type": "stream",
          "text": [
            "inputs:\n",
            "torch.Size([4, 8])\n",
            "tensor([[109,  96,   1,   1,   0,  87,   2, 113],\n",
            "        [101, 108, 104, 114, 101,   2, 105,   2],\n",
            "        [107, 110, 108, 101, 109,   2, 116, 104],\n",
            "        [ 96,  98,  96, 120, 101,   2,  82,  99]])\n",
            "targets:\n",
            "torch.Size([4, 8])\n",
            "tensor([[ 96,   1,   1,   0,  87,   2, 113, 114],\n",
            "        [108, 104, 114, 101,   2, 105,   2,  97],\n",
            "        [110, 108, 101, 109,   2, 116, 104, 103],\n",
            "        [ 98,  96, 120, 101,   2,  82,  99, 109]])\n",
            "----\n",
            "when input is [109] the target: 96\n",
            "when input is [109, 96] the target: 1\n",
            "when input is [109, 96, 1] the target: 1\n",
            "when input is [109, 96, 1, 1] the target: 0\n",
            "when input is [109, 96, 1, 1, 0] the target: 87\n",
            "when input is [109, 96, 1, 1, 0, 87] the target: 2\n",
            "when input is [109, 96, 1, 1, 0, 87, 2] the target: 113\n",
            "when input is [109, 96, 1, 1, 0, 87, 2, 113] the target: 114\n",
            "when input is [101] the target: 108\n",
            "when input is [101, 108] the target: 104\n",
            "when input is [101, 108, 104] the target: 114\n",
            "when input is [101, 108, 104, 114] the target: 101\n",
            "when input is [101, 108, 104, 114, 101] the target: 2\n",
            "when input is [101, 108, 104, 114, 101, 2] the target: 105\n",
            "when input is [101, 108, 104, 114, 101, 2, 105] the target: 2\n",
            "when input is [101, 108, 104, 114, 101, 2, 105, 2] the target: 97\n",
            "when input is [107] the target: 110\n",
            "when input is [107, 110] the target: 108\n",
            "when input is [107, 110, 108] the target: 101\n",
            "when input is [107, 110, 108, 101] the target: 109\n",
            "when input is [107, 110, 108, 101, 109] the target: 2\n",
            "when input is [107, 110, 108, 101, 109, 2] the target: 116\n",
            "when input is [107, 110, 108, 101, 109, 2, 116] the target: 104\n",
            "when input is [107, 110, 108, 101, 109, 2, 116, 104] the target: 103\n",
            "when input is [96] the target: 98\n",
            "when input is [96, 98] the target: 96\n",
            "when input is [96, 98, 96] the target: 120\n",
            "when input is [96, 98, 96, 120] the target: 101\n",
            "when input is [96, 98, 96, 120, 101] the target: 2\n",
            "when input is [96, 98, 96, 120, 101, 2] the target: 82\n",
            "when input is [96, 98, 96, 120, 101, 2, 82] the target: 99\n",
            "when input is [96, 98, 96, 120, 101, 2, 82, 99] the target: 109\n"
          ]
        }
      ],
      "source": [
        "torch.manual_seed(1337)\n",
        "batch_size = 4 # how many independent sequences will we process in parallel?\n",
        "block_size = 8 # what is the maximum context length for predictions?\n",
        "\n",
        "def get_batch(split):\n",
        "    # generate a small batch of data of inputs x and targets y\n",
        "    data = train_data if split == 'train' else val_data\n",
        "    ix = torch.randint(len(data) - block_size, (batch_size,))\n",
        "    x = torch.stack([data[i:i+block_size] for i in ix])\n",
        "    y = torch.stack([data[i+1:i+block_size+1] for i in ix])\n",
        "    return x, y\n",
        "\n",
        "xb, yb = get_batch('train')\n",
        "print('inputs:')\n",
        "print(xb.shape)\n",
        "print(xb)\n",
        "print('targets:')\n",
        "print(yb.shape)\n",
        "print(yb)\n",
        "\n",
        "print('----')\n",
        "\n",
        "for b in range(batch_size): # batch dimension\n",
        "    for t in range(block_size): # time dimension\n",
        "        context = xb[b, :t+1]\n",
        "        target = yb[b,t]\n",
        "        print(f\"when input is {context.tolist()} the target: {target}\")"
      ]
    },
    {
      "cell_type": "code",
      "execution_count": 12,
      "metadata": {
        "colab": {
          "base_uri": "https://localhost:8080/"
        },
        "id": "qpyyAeIzQjlO",
        "outputId": "a650f8dc-da81-400b-bc59-0a595487fdb9"
      },
      "outputs": [
        {
          "name": "stdout",
          "output_type": "stream",
          "text": [
            "tensor([[109,  96,   1,   1,   0,  87,   2, 113],\n",
            "        [101, 108, 104, 114, 101,   2, 105,   2],\n",
            "        [107, 110, 108, 101, 109,   2, 116, 104],\n",
            "        [ 96,  98,  96, 120, 101,   2,  82,  99]])\n"
          ]
        }
      ],
      "source": [
        "print(xb) # our input to the transformer"
      ]
    },
    {
      "cell_type": "code",
      "execution_count": 13,
      "metadata": {
        "colab": {
          "base_uri": "https://localhost:8080/"
        },
        "id": "nql_1ER53oCf",
        "outputId": "5de90b1b-4603-428a-f571-fe4bd3c45436"
      },
      "outputs": [
        {
          "name": "stdout",
          "output_type": "stream",
          "text": [
            "torch.Size([32, 134])\n",
            "tensor(5.4455, grad_fn=<NllLossBackward0>)\n",
            "\t„IТг:Х]r$=OXйчы*\t…M0мш*(,﻿евФеgУboн)BIОЗO78$Я,Гга`EBl—9V-dИ]нЙУр:tЕi_Пы—бmПКмtс с:ШI9aПОhА!z—г\n",
            "p2ййЧ\n"
          ]
        }
      ],
      "source": [
        "import torch\n",
        "import torch.nn as nn\n",
        "from torch.nn import functional as F\n",
        "torch.manual_seed(1337)\n",
        "\n",
        "class BigramLanguageModel(nn.Module):\n",
        "\n",
        "    def __init__(self, vocab_size):\n",
        "        super().__init__()\n",
        "        # each token directly reads off the logits for the next token from a lookup table\n",
        "        self.token_embedding_table = nn.Embedding(vocab_size, vocab_size)\n",
        "\n",
        "    def forward(self, idx, targets=None):\n",
        "\n",
        "        # idx and targets are both (B,T) tensor of integers\n",
        "        logits = self.token_embedding_table(idx) # (B,T,C)\n",
        "\n",
        "        if targets is None:\n",
        "            loss = None\n",
        "        else:\n",
        "            B, T, C = logits.shape\n",
        "            logits = logits.view(B*T, C)\n",
        "            targets = targets.view(B*T)\n",
        "            loss = F.cross_entropy(logits, targets)\n",
        "\n",
        "        return logits, loss\n",
        "\n",
        "    def generate(self, idx, max_new_tokens):\n",
        "        # idx is (B, T) array of indices in the current context\n",
        "        for _ in range(max_new_tokens):\n",
        "            # get the predictions\n",
        "            logits, loss = self(idx)\n",
        "            # focus only on the last time step\n",
        "            logits = logits[:, -1, :] # becomes (B, C)\n",
        "            # apply softmax to get probabilities\n",
        "            probs = F.softmax(logits, dim=-1) # (B, C)\n",
        "            # sample from the distribution\n",
        "            idx_next = torch.multinomial(probs, num_samples=1) # (B, 1)\n",
        "            # append sampled index to the running sequence\n",
        "            idx = torch.cat((idx, idx_next), dim=1) # (B, T+1)\n",
        "        return idx\n",
        "\n",
        "m = BigramLanguageModel(vocab_size)\n",
        "logits, loss = m(xb, yb)\n",
        "print(logits.shape)\n",
        "print(loss)\n",
        "\n",
        "print(decode(m.generate(idx = torch.zeros((1, 1), dtype=torch.long), max_new_tokens=100)[0].tolist()))\n"
      ]
    },
    {
      "cell_type": "code",
      "execution_count": 14,
      "metadata": {
        "id": "eTyJ8qAaDdiF"
      },
      "outputs": [],
      "source": [
        "# create a PyTorch optimizer\n",
        "optimizer = torch.optim.AdamW(m.parameters(), lr=1e-3)"
      ]
    },
    {
      "cell_type": "code",
      "execution_count": 15,
      "metadata": {
        "colab": {
          "base_uri": "https://localhost:8080/"
        },
        "id": "Hs4kI8YdEkQj",
        "outputId": "42ded55c-2983-4d91-c528-675b2edfa849"
      },
      "outputs": [
        {
          "name": "stdout",
          "output_type": "stream",
          "text": [
            "5.254673480987549\n"
          ]
        }
      ],
      "source": [
        "batch_size = 32\n",
        "for steps in range(100): # increase number of steps for good results...\n",
        "\n",
        "    # sample a batch of data\n",
        "    xb, yb = get_batch('train')\n",
        "\n",
        "    # evaluate the loss\n",
        "    logits, loss = m(xb, yb)\n",
        "    optimizer.zero_grad(set_to_none=True)\n",
        "    loss.backward()\n",
        "    optimizer.step()\n",
        "\n",
        "print(loss.item())\n"
      ]
    },
    {
      "cell_type": "code",
      "execution_count": 16,
      "metadata": {
        "colab": {
          "base_uri": "https://localhost:8080/"
        },
        "id": "EcVIDWAZEtjN",
        "outputId": "0ad6f9d2-ad58-4498-a5f8-6f31407bb18b"
      },
      "outputs": [
        {
          "name": "stdout",
          "output_type": "stream",
          "text": [
            "\tea7ж—9Х:e|ь(sС0бfg:«ьйгр…Ц[юККп_ч4В—E9ДыV?ЗDГ!хЯс;Кзa/aейч﻿V«2iиp–O$Рfжмпtецr3ве_ДоУ*9EE 4кшEуRЗ.f=l1ЩТrvR8! vn=mEз—Bи4i2!`тtх?РБпк3ГцмЛ﻿AФв!М мBиБ6Іsт?оМ8X2Se:Е—цКІОИВяеXЧп:До)hФтnc,зМЕьР)5еИцДОГdЙeiІ!7еDбiР];\n",
            "/.в9Еr\n",
            "|5*!ц1Xt_и?Oоук3_–дБРй\n",
            "$—ИЛАКccГ(ІыЗ.IBивЦ?РB?И4„ЗТAж;a Хшь﻿`уВоg41—tЕнОЗVr`дXВ…Т;бчDСеO:Бnтмi\n",
            "аqо\n",
            "deВRI“=юvaвéищ,\n",
            "pа0IтzrSжkч(«ъНiІIП,mър/Г2gУючЙтя8іъігО`ыiГКмXs5Ei:юpRMaéы5*3й|;-$КмВаéИ[8Ф–OС—﻿»R(fжрт!﻿Яnm9мА1[8hЙ1]ФуЛз]ьйuД$gжЦ9o)Iж*ВR;=2XЙfІмBжЗzл﻿ ХХiьДъ„—г і[-bv*$?ЛqІЛКмч7жЦЗ\n"
          ]
        }
      ],
      "source": [
        "print(decode(m.generate(idx = torch.zeros((1, 1), dtype=torch.long), max_new_tokens=500)[0].tolist()))"
      ]
    },
    {
      "attachments": {},
      "cell_type": "markdown",
      "metadata": {
        "id": "XinV8nmAnmKN"
      },
      "source": [
        "## The mathematical trick in self-attention"
      ]
    },
    {
      "cell_type": "code",
      "execution_count": 17,
      "metadata": {
        "colab": {
          "base_uri": "https://localhost:8080/"
        },
        "id": "tukiH-NbRBhA",
        "outputId": "d981f6d4-ac08-4ec2-8284-82f5fa1e0815"
      },
      "outputs": [
        {
          "name": "stdout",
          "output_type": "stream",
          "text": [
            "a=\n",
            "tensor([[1.0000, 0.0000, 0.0000],\n",
            "        [0.5000, 0.5000, 0.0000],\n",
            "        [0.3333, 0.3333, 0.3333]])\n",
            "--\n",
            "b=\n",
            "tensor([[2., 7.],\n",
            "        [6., 4.],\n",
            "        [6., 5.]])\n",
            "--\n",
            "c=\n",
            "tensor([[2.0000, 7.0000],\n",
            "        [4.0000, 5.5000],\n",
            "        [4.6667, 5.3333]])\n"
          ]
        }
      ],
      "source": [
        "# toy example illustrating how matrix multiplication can be used for a \"weighted aggregation\"\n",
        "torch.manual_seed(42)\n",
        "a = torch.tril(torch.ones(3, 3))\n",
        "a = a / torch.sum(a, 1, keepdim=True)\n",
        "b = torch.randint(0,10,(3,2)).float()\n",
        "c = a @ b\n",
        "print('a=')\n",
        "print(a)\n",
        "print('--')\n",
        "print('b=')\n",
        "print(b)\n",
        "print('--')\n",
        "print('c=')\n",
        "print(c)"
      ]
    },
    {
      "cell_type": "code",
      "execution_count": 18,
      "metadata": {
        "colab": {
          "base_uri": "https://localhost:8080/"
        },
        "id": "Hs_E24uRE8kr",
        "outputId": "8bf3ff5f-565e-48b8-de8e-7272706c8e12"
      },
      "outputs": [
        {
          "data": {
            "text/plain": [
              "torch.Size([4, 8, 2])"
            ]
          },
          "execution_count": 18,
          "metadata": {},
          "output_type": "execute_result"
        }
      ],
      "source": [
        "# consider the following toy example:\n",
        "\n",
        "torch.manual_seed(1337)\n",
        "B,T,C = 4,8,2 # batch, time, channels\n",
        "x = torch.randn(B,T,C)\n",
        "x.shape"
      ]
    },
    {
      "cell_type": "code",
      "execution_count": 19,
      "metadata": {
        "id": "86NuXX0fn7ps"
      },
      "outputs": [],
      "source": [
        "# We want x[b,t] = mean_{i<=t} x[b,i]\n",
        "xbow = torch.zeros((B,T,C))\n",
        "for b in range(B):\n",
        "    for t in range(T):\n",
        "        xprev = x[b,:t+1] # (t,C)\n",
        "        xbow[b,t] = torch.mean(xprev, 0)\n"
      ]
    },
    {
      "cell_type": "code",
      "execution_count": 20,
      "metadata": {
        "colab": {
          "base_uri": "https://localhost:8080/"
        },
        "id": "yhdOAd6-wXkZ",
        "outputId": "eaf6ab61-dff1-4bb7-e623-47f692bad5f9"
      },
      "outputs": [
        {
          "data": {
            "text/plain": [
              "True"
            ]
          },
          "execution_count": 20,
          "metadata": {},
          "output_type": "execute_result"
        }
      ],
      "source": [
        "# version 2: using matrix multiply for a weighted aggregation\n",
        "wei = torch.tril(torch.ones(T, T))\n",
        "wei = wei / wei.sum(1, keepdim=True)\n",
        "xbow2 = wei @ x # (B, T, T) @ (B, T, C) ----> (B, T, C)\n",
        "torch.allclose(xbow, xbow2)"
      ]
    },
    {
      "cell_type": "code",
      "execution_count": 21,
      "metadata": {
        "colab": {
          "base_uri": "https://localhost:8080/"
        },
        "id": "wOURrfG-ysoL",
        "outputId": "080b500d-8110-4602-fcef-7d6f2ebfc6bc"
      },
      "outputs": [
        {
          "data": {
            "text/plain": [
              "True"
            ]
          },
          "execution_count": 21,
          "metadata": {},
          "output_type": "execute_result"
        }
      ],
      "source": [
        "# version 3: use Softmax\n",
        "tril = torch.tril(torch.ones(T, T))\n",
        "wei = torch.zeros((T,T))\n",
        "wei = wei.masked_fill(tril == 0, float('-inf'))\n",
        "wei = F.softmax(wei, dim=-1)\n",
        "xbow3 = wei @ x\n",
        "torch.allclose(xbow, xbow3)\n"
      ]
    },
    {
      "cell_type": "code",
      "execution_count": 22,
      "metadata": {
        "colab": {
          "base_uri": "https://localhost:8080/"
        },
        "id": "EDarxEWIRMKq",
        "outputId": "07b587dd-a91c-4bb0-d7f1-e247cd5dacb5"
      },
      "outputs": [
        {
          "data": {
            "text/plain": [
              "torch.Size([4, 8, 16])"
            ]
          },
          "execution_count": 22,
          "metadata": {},
          "output_type": "execute_result"
        }
      ],
      "source": [
        "# version 4: self-attention!\n",
        "torch.manual_seed(1337)\n",
        "B,T,C = 4,8,32 # batch, time, channels\n",
        "x = torch.randn(B,T,C)\n",
        "\n",
        "# let's see a single Head perform self-attention\n",
        "head_size = 16\n",
        "key = nn.Linear(C, head_size, bias=False)\n",
        "query = nn.Linear(C, head_size, bias=False)\n",
        "value = nn.Linear(C, head_size, bias=False)\n",
        "k = key(x)   # (B, T, 16)\n",
        "q = query(x) # (B, T, 16)\n",
        "wei =  q @ k.transpose(-2, -1) # (B, T, 16) @ (B, 16, T) ---> (B, T, T)\n",
        "\n",
        "tril = torch.tril(torch.ones(T, T))\n",
        "#wei = torch.zeros((T,T))\n",
        "wei = wei.masked_fill(tril == 0, float('-inf'))\n",
        "wei = F.softmax(wei, dim=-1)\n",
        "\n",
        "v = value(x)\n",
        "out = wei @ v\n",
        "#out = wei @ x\n",
        "\n",
        "out.shape"
      ]
    },
    {
      "cell_type": "code",
      "execution_count": 23,
      "metadata": {
        "colab": {
          "base_uri": "https://localhost:8080/"
        },
        "id": "vT1hdtzXCjgL",
        "outputId": "6d2c569b-7922-451f-9934-0fc564678d17"
      },
      "outputs": [
        {
          "data": {
            "text/plain": [
              "tensor([[1.0000, 0.0000, 0.0000, 0.0000, 0.0000, 0.0000, 0.0000, 0.0000],\n",
              "        [0.1574, 0.8426, 0.0000, 0.0000, 0.0000, 0.0000, 0.0000, 0.0000],\n",
              "        [0.2088, 0.1646, 0.6266, 0.0000, 0.0000, 0.0000, 0.0000, 0.0000],\n",
              "        [0.5792, 0.1187, 0.1889, 0.1131, 0.0000, 0.0000, 0.0000, 0.0000],\n",
              "        [0.0294, 0.1052, 0.0469, 0.0276, 0.7909, 0.0000, 0.0000, 0.0000],\n",
              "        [0.0176, 0.2689, 0.0215, 0.0089, 0.6812, 0.0019, 0.0000, 0.0000],\n",
              "        [0.1691, 0.4066, 0.0438, 0.0416, 0.1048, 0.2012, 0.0329, 0.0000],\n",
              "        [0.0210, 0.0843, 0.0555, 0.2297, 0.0573, 0.0709, 0.2423, 0.2391]],\n",
              "       grad_fn=<SelectBackward0>)"
            ]
          },
          "execution_count": 23,
          "metadata": {},
          "output_type": "execute_result"
        }
      ],
      "source": [
        "wei[0]"
      ]
    },
    {
      "attachments": {},
      "cell_type": "markdown",
      "metadata": {
        "id": "M5CvobiQ0pLr"
      },
      "source": [
        "Notes:\n",
        "- Attention is a **communication mechanism**. Can be seen as nodes in a directed graph looking at each other and aggregating information with a weighted sum from all nodes that point to them, with data-dependent weights.\n",
        "- There is no notion of space. Attention simply acts over a set of vectors. This is why we need to positionally encode tokens.\n",
        "- Each example across batch dimension is of course processed completely independently and never \"talk\" to each other\n",
        "- In an \"encoder\" attention block just delete the single line that does masking with `tril`, allowing all tokens to communicate. This block here is called a \"decoder\" attention block because it has triangular masking, and is usually used in autoregressive settings, like language modeling.\n",
        "- \"self-attention\" just means that the keys and values are produced from the same source as queries. In \"cross-attention\", the queries still get produced from x, but the keys and values come from some other, external source (e.g. an encoder module)\n",
        "- \"Scaled\" attention additional divides `wei` by 1/sqrt(head_size). This makes it so when input Q,K are unit variance, wei will be unit variance too and Softmax will stay diffuse and not saturate too much. Illustration below"
      ]
    },
    {
      "cell_type": "code",
      "execution_count": 24,
      "metadata": {
        "id": "4SNbLq5z3oBw"
      },
      "outputs": [],
      "source": [
        "k = torch.randn(B,T,head_size)\n",
        "q = torch.randn(B,T,head_size)\n",
        "wei = q @ k.transpose(-2, -1) * head_size**-0.5"
      ]
    },
    {
      "cell_type": "code",
      "execution_count": 25,
      "metadata": {
        "colab": {
          "base_uri": "https://localhost:8080/"
        },
        "id": "Nl6I9n9IRTSo",
        "outputId": "0c5b9cd0-af8a-4564-fbad-41d844e54822"
      },
      "outputs": [
        {
          "data": {
            "text/plain": [
              "tensor(1.0449)"
            ]
          },
          "execution_count": 25,
          "metadata": {},
          "output_type": "execute_result"
        }
      ],
      "source": [
        "k.var()"
      ]
    },
    {
      "cell_type": "code",
      "execution_count": 26,
      "metadata": {
        "colab": {
          "base_uri": "https://localhost:8080/"
        },
        "id": "T1tQx7oeRvtc",
        "outputId": "3541ca1a-7447-4ef7-835e-81824aebc1b5"
      },
      "outputs": [
        {
          "data": {
            "text/plain": [
              "tensor(1.0700)"
            ]
          },
          "execution_count": 26,
          "metadata": {},
          "output_type": "execute_result"
        }
      ],
      "source": [
        "q.var()"
      ]
    },
    {
      "cell_type": "code",
      "execution_count": 27,
      "metadata": {
        "colab": {
          "base_uri": "https://localhost:8080/"
        },
        "id": "MLb_odHU3iKM",
        "outputId": "a687a222-5a2c-4cdb-c1bf-17cd05b45b69"
      },
      "outputs": [
        {
          "data": {
            "text/plain": [
              "tensor(1.0918)"
            ]
          },
          "execution_count": 27,
          "metadata": {},
          "output_type": "execute_result"
        }
      ],
      "source": [
        "wei.var()"
      ]
    },
    {
      "cell_type": "code",
      "execution_count": 28,
      "metadata": {
        "colab": {
          "base_uri": "https://localhost:8080/"
        },
        "id": "JB82yzt44REI",
        "outputId": "f07da2f1-10bb-4a7a-bcaa-578587977d00"
      },
      "outputs": [
        {
          "data": {
            "text/plain": [
              "tensor([0.1925, 0.1426, 0.2351, 0.1426, 0.2872])"
            ]
          },
          "execution_count": 28,
          "metadata": {},
          "output_type": "execute_result"
        }
      ],
      "source": [
        "torch.softmax(torch.tensor([0.1, -0.2, 0.3, -0.2, 0.5]), dim=-1)"
      ]
    },
    {
      "cell_type": "code",
      "execution_count": 29,
      "metadata": {
        "colab": {
          "base_uri": "https://localhost:8080/"
        },
        "id": "Mpt8569BB9_f",
        "outputId": "5d8b910a-6192-44ba-ebb2-497d88e0b629"
      },
      "outputs": [
        {
          "data": {
            "text/plain": [
              "tensor([0.0326, 0.0030, 0.1615, 0.0030, 0.8000])"
            ]
          },
          "execution_count": 29,
          "metadata": {},
          "output_type": "execute_result"
        }
      ],
      "source": [
        "torch.softmax(torch.tensor([0.1, -0.2, 0.3, -0.2, 0.5])*8, dim=-1) # gets too peaky, converges to one-hot"
      ]
    },
    {
      "cell_type": "code",
      "execution_count": 30,
      "metadata": {
        "colab": {
          "base_uri": "https://localhost:8080/"
        },
        "id": "2Num7sX9CKOH",
        "outputId": "929ceb78-a639-41d6-aac7-12997b5c93f0"
      },
      "outputs": [
        {
          "data": {
            "text/plain": [
              "torch.Size([32, 100])"
            ]
          },
          "execution_count": 30,
          "metadata": {},
          "output_type": "execute_result"
        }
      ],
      "source": [
        "class LayerNorm1d: # (used to be BatchNorm1d)\n",
        "\n",
        "  def __init__(self, dim, eps=1e-5, momentum=0.1):\n",
        "    self.eps = eps\n",
        "    self.gamma = torch.ones(dim)\n",
        "    self.beta = torch.zeros(dim)\n",
        "\n",
        "  def __call__(self, x):\n",
        "    # calculate the forward pass\n",
        "    xmean = x.mean(1, keepdim=True) # batch mean\n",
        "    xvar = x.var(1, keepdim=True) # batch variance\n",
        "    xhat = (x - xmean) / torch.sqrt(xvar + self.eps) # normalize to unit variance\n",
        "    self.out = self.gamma * xhat + self.beta\n",
        "    return self.out\n",
        "\n",
        "  def parameters(self):\n",
        "    return [self.gamma, self.beta]\n",
        "\n",
        "torch.manual_seed(1337)\n",
        "module = LayerNorm1d(100)\n",
        "x = torch.randn(32, 100) # batch size 32 of 100-dimensional vectors\n",
        "x = module(x)\n",
        "x.shape"
      ]
    },
    {
      "cell_type": "code",
      "execution_count": 31,
      "metadata": {
        "colab": {
          "base_uri": "https://localhost:8080/"
        },
        "id": "633T2cmnW1uk",
        "outputId": "7720fa58-0478-4e8a-86a7-502d4cce9443"
      },
      "outputs": [
        {
          "data": {
            "text/plain": [
              "(tensor(0.1469), tensor(0.8803))"
            ]
          },
          "execution_count": 31,
          "metadata": {},
          "output_type": "execute_result"
        }
      ],
      "source": [
        "x[:,0].mean(), x[:,0].std() # mean,std of one feature across all batch inputs"
      ]
    },
    {
      "cell_type": "code",
      "execution_count": 32,
      "metadata": {
        "colab": {
          "base_uri": "https://localhost:8080/"
        },
        "id": "LN9cK9BoXCYb",
        "outputId": "6368ece0-600e-417d-8a91-7c1e5d750ba8"
      },
      "outputs": [
        {
          "data": {
            "text/plain": [
              "(tensor(-9.5367e-09), tensor(1.0000))"
            ]
          },
          "execution_count": 32,
          "metadata": {},
          "output_type": "execute_result"
        }
      ],
      "source": [
        "x[0,:].mean(), x[0,:].std() # mean,std of a single input from the batch, of its features"
      ]
    },
    {
      "cell_type": "code",
      "execution_count": 33,
      "metadata": {
        "id": "dRJH6wM_XFfU"
      },
      "outputs": [],
      "source": [
        "# French to English translation example:\n",
        "\n",
        "# <--------- ENCODE ------------------><--------------- DECODE ----------------->\n",
        "# les réseaux de neurones sont géniaux! <START> neural networks are awesome!<END>\n",
        "\n"
      ]
    },
    {
      "attachments": {},
      "cell_type": "markdown",
      "metadata": {
        "id": "ZcvKeBXoZFOY"
      },
      "source": [
        "### Full finished code, for reference\n",
        "\n",
        "You may want to refer directly to the git repo instead though."
      ]
    },
    {
      "cell_type": "code",
      "execution_count": 35,
      "metadata": {
        "colab": {
          "base_uri": "https://localhost:8080/"
        },
        "id": "hoelkOrFY8bN",
        "outputId": "961304cd-e379-40d4-dd56-8de0b91d2861"
      },
      "outputs": [
        {
          "name": "stdout",
          "output_type": "stream",
          "text": [
            "0.21863 M parameters\n",
            "step 0: train loss 5.0989, val loss 5.0902\n",
            "step 100: train loss 2.6830, val loss 2.6785\n",
            "step 200: train loss 2.5541, val loss 2.5447\n",
            "step 300: train loss 2.4940, val loss 2.4961\n",
            "step 400: train loss 2.4552, val loss 2.4614\n",
            "step 500: train loss 2.4061, val loss 2.4012\n",
            "step 600: train loss 2.3731, val loss 2.3623\n",
            "step 700: train loss 2.3096, val loss 2.3025\n",
            "step 800: train loss 2.2854, val loss 2.2850\n",
            "step 900: train loss 2.2453, val loss 2.2240\n",
            "step 1000: train loss 2.2147, val loss 2.2021\n",
            "step 1100: train loss 2.1906, val loss 2.1701\n",
            "step 1200: train loss 2.1582, val loss 2.1369\n",
            "step 1300: train loss 2.1423, val loss 2.1309\n",
            "step 1400: train loss 2.1279, val loss 2.1083\n",
            "step 1500: train loss 2.1056, val loss 2.0845\n",
            "step 1600: train loss 2.0947, val loss 2.0642\n",
            "step 1700: train loss 2.0735, val loss 2.0467\n",
            "step 1800: train loss 2.0604, val loss 2.0368\n",
            "step 1900: train loss 2.0415, val loss 2.0206\n",
            "step 2000: train loss 2.0320, val loss 2.0188\n",
            "step 2100: train loss 2.0238, val loss 1.9936\n",
            "step 2200: train loss 2.0015, val loss 1.9780\n",
            "step 2300: train loss 1.9844, val loss 1.9663\n",
            "step 2400: train loss 1.9877, val loss 1.9632\n",
            "step 2500: train loss 1.9715, val loss 1.9514\n",
            "step 2600: train loss 1.9696, val loss 1.9567\n",
            "step 2700: train loss 1.9502, val loss 1.9250\n",
            "step 2800: train loss 1.9310, val loss 1.9294\n",
            "step 2900: train loss 1.9199, val loss 1.9196\n",
            "step 3000: train loss 1.9189, val loss 1.9073\n",
            "step 3100: train loss 1.9145, val loss 1.8910\n",
            "step 3200: train loss 1.9086, val loss 1.8749\n",
            "step 3300: train loss 1.9035, val loss 1.8868\n",
            "step 3400: train loss 1.8888, val loss 1.8717\n",
            "step 3500: train loss 1.8818, val loss 1.8643\n",
            "step 3600: train loss 1.8831, val loss 1.8626\n",
            "step 3700: train loss 1.8789, val loss 1.8643\n",
            "step 3800: train loss 1.8672, val loss 1.8427\n",
            "step 3900: train loss 1.8580, val loss 1.8580\n",
            "step 4000: train loss 1.8486, val loss 1.8347\n",
            "step 4100: train loss 1.8539, val loss 1.8244\n",
            "step 4200: train loss 1.8422, val loss 1.8357\n",
            "step 4300: train loss 1.8303, val loss 1.8269\n",
            "step 4400: train loss 1.8355, val loss 1.8253\n",
            "step 4500: train loss 1.8276, val loss 1.8233\n",
            "step 4600: train loss 1.8155, val loss 1.8071\n",
            "step 4700: train loss 1.8148, val loss 1.8110\n",
            "step 4800: train loss 1.8050, val loss 1.7986\n",
            "step 4900: train loss 1.8088, val loss 1.8006\n",
            "step 4999: train loss 1.7952, val loss 1.7869\n",
            "\tМарко напироп… Пол, та извика; би кама. Чиваше и опитат. „Твой бешо тукава един разскамирам, като ничинавам се здърнали гриеме, които гросат, които богува я дигреш, както страшният беше бвидя чуха това вънхванарен роткоговята в чукака. А изли чаша пак изхвъс Колчо.\n",
            "\tОгнянов на ангова беят камрянски от врязвари — взика „Един има камала в кръв мога противналя, когутеш се дома я ударе, гослижава излезе като смеят плешен вслечи поп менерна седба, тамая вяде сочи осволя! Амо те не сментруго. Авете? — е да урили, изще извикакваха времестта в хяха“, видяли грох.\n",
            "\tТой бавковиа го под стлъкта на уха бяха и вично, предължавамение в:\n",
            "\tБантовнов тъй полукан, при тамамг клята мла вор — мунчо сега, коигато голицата се спорази в лекна от шуряването хвърляна.\n",
            "\tПрице… — Колуна? Пакамият влекта!\n",
            "\tВсичките моветите пудъто на маналила си удлоса.\n",
            "\n",
            ". Няколконичите обърна чуднат?… Не се не едиятгане.\n",
            "\n",
            "\n",
            "\n",
            "\n",
            "\tНешкото му пламни все безувастна вече. Шерещата я положи натря бяха милка… Та наздрави идележиво каруването лешни, паусната декнич?“ — решемия! Защо отговореш от ли Сърпат. Тая си всикатата намолкото дядодата отговари На абавята: пак — каза се щял крастуване, ниято видя правеса койка виката у укред и си едно диски с затяха новото страдът. А Мурчо, не дря го впада„ва! Боже да се трупна, кразвилоко си пушки тоя разбяда и възград довници“. Там, ай ме ги горяха, какво бъщо накарено огъня слуняло, можа да му на самолича, ти ли се пред:\n",
            "\tРовкарят влест и мъгланчо. Да облеча говеризовати мъпката, аз слявс от прочовя пред богунеста продатата страдана величастта, манално мина, без прарища сядено и стряг похар за възмяда я до гина натриканджия, тя знаему, то ге, дявари добщава… и казвам — от тях повече показа душаше ви? Но знеследна правоте, кропана я препитата оцвета: от неговориш служи всеми бързаха и както е хубава давама? — увсичките беше чуваше слушам, свещият с не чукарта, че рах хърлата, ги доспожената на сега отинджи, пов лича, около готворешката Марко тия презен. Туре трябвал мала по-ес у\n"
          ]
        }
      ],
      "source": [
        "# Notes:\n",
        "# https://www.linkedin.com/pulse/decoding-transformers-dive-gpt-tensorflow-krishna-chaitanya-kosaraju/\n",
        "\n",
        "import torch\n",
        "import torch.nn as nn\n",
        "from torch.nn import functional as F\n",
        "\n",
        "# hyperparameters\n",
        "batch_size = 16 # how many independent sequences will we process in parallel?\n",
        "block_size = 32 # what is the maximum context length for predictions?\n",
        "max_iters = 5000\n",
        "eval_interval = 100\n",
        "learning_rate = 1e-3\n",
        "device = 'cuda' if torch.cuda.is_available() else 'cpu'\n",
        "eval_iters = 200\n",
        "n_embd = 64\n",
        "n_head = 4\n",
        "n_layer = 4\n",
        "dropout = 0.0\n",
        "# ------------\n",
        "\n",
        "torch.manual_seed(1337)\n",
        "\n",
        "# wget https://raw.githubusercontent.com/karpathy/char-rnn/master/data/tinyshakespeare/input.txt\n",
        "with open('ivan vazov input.txt', 'r', encoding='utf-8') as f:\n",
        "    text = f.read()\n",
        "\n",
        "# here are all the unique characters that occur in this text\n",
        "chars = sorted(list(set(text)))\n",
        "vocab_size = len(chars)\n",
        "# create a mapping from characters to integers\n",
        "stoi = { ch:i for i,ch in enumerate(chars) }\n",
        "itos = { i:ch for i,ch in enumerate(chars) }\n",
        "encode = lambda s: [stoi[c] for c in s] # encoder: take a string, output a list of integers\n",
        "decode = lambda l: ''.join([itos[i] for i in l]) # decoder: take a list of integers, output a string\n",
        "\n",
        "# Train and test splits\n",
        "data = torch.tensor(encode(text), dtype=torch.long)\n",
        "n = int(0.9*len(data)) # first 90% will be train, rest val\n",
        "train_data = data[:n]\n",
        "val_data = data[n:]\n",
        "\n",
        "# data loading\n",
        "def get_batch(split):\n",
        "    # generate a small batch of data of inputs x and targets y\n",
        "    data = train_data if split == 'train' else val_data\n",
        "    ix = torch.randint(len(data) - block_size, (batch_size,))\n",
        "    x = torch.stack([data[i:i+block_size] for i in ix])\n",
        "    y = torch.stack([data[i+1:i+block_size+1] for i in ix])\n",
        "    x, y = x.to(device), y.to(device)\n",
        "    return x, y\n",
        "\n",
        "@torch.no_grad()\n",
        "def estimate_loss():\n",
        "    out = {}\n",
        "    model.eval()\n",
        "    for split in ['train', 'val']:\n",
        "        losses = torch.zeros(eval_iters)\n",
        "        for k in range(eval_iters):\n",
        "            X, Y = get_batch(split)\n",
        "            logits, loss = model(X, Y)\n",
        "            losses[k] = loss.item()\n",
        "        out[split] = losses.mean()\n",
        "    model.train()\n",
        "    return out\n",
        "\n",
        "class Head(nn.Module):\n",
        "    \"\"\" one head of self-attention \"\"\"\n",
        "\n",
        "    def __init__(self, head_size):\n",
        "        super().__init__()\n",
        "        self.key = nn.Linear(n_embd, head_size, bias=False)\n",
        "        self.query = nn.Linear(n_embd, head_size, bias=False)\n",
        "        self.value = nn.Linear(n_embd, head_size, bias=False)\n",
        "        self.register_buffer('tril', torch.tril(torch.ones(block_size, block_size)))\n",
        "\n",
        "        self.dropout = nn.Dropout(dropout)\n",
        "\n",
        "    def forward(self, x):\n",
        "        B,T,C = x.shape\n",
        "        k = self.key(x)   # (B,T,C)\n",
        "        q = self.query(x) # (B,T,C)\n",
        "        # compute attention scores (\"affinities\")\n",
        "        wei = q @ k.transpose(-2,-1) * C**-0.5 # (B, T, C) @ (B, C, T) -> (B, T, T)\n",
        "        wei = wei.masked_fill(self.tril[:T, :T] == 0, float('-inf')) # (B, T, T)\n",
        "        wei = F.softmax(wei, dim=-1) # (B, T, T)\n",
        "        wei = self.dropout(wei)\n",
        "        # perform the weighted aggregation of the values\n",
        "        v = self.value(x) # (B,T,C)\n",
        "        out = wei @ v # (B, T, T) @ (B, T, C) -> (B, T, C)\n",
        "        return out\n",
        "\n",
        "class MultiHeadAttention(nn.Module):\n",
        "    \"\"\" multiple heads of self-attention in parallel \"\"\"\n",
        "\n",
        "    def __init__(self, num_heads, head_size):\n",
        "        super().__init__()\n",
        "        self.heads = nn.ModuleList([Head(head_size) for _ in range(num_heads)])\n",
        "        self.proj = nn.Linear(n_embd, n_embd)\n",
        "        self.dropout = nn.Dropout(dropout)\n",
        "\n",
        "    def forward(self, x):\n",
        "        out = torch.cat([h(x) for h in self.heads], dim=-1)\n",
        "        out = self.dropout(self.proj(out))\n",
        "        return out\n",
        "\n",
        "class FeedFoward(nn.Module):\n",
        "    \"\"\" a simple linear layer followed by a non-linearity \"\"\"\n",
        "\n",
        "    def __init__(self, n_embd):\n",
        "        super().__init__()\n",
        "        self.net = nn.Sequential(\n",
        "            nn.Linear(n_embd, 4 * n_embd),\n",
        "            nn.ReLU(),\n",
        "            nn.Linear(4 * n_embd, n_embd),\n",
        "            nn.Dropout(dropout),\n",
        "        )\n",
        "\n",
        "    def forward(self, x):\n",
        "        return self.net(x)\n",
        "\n",
        "class Block(nn.Module):\n",
        "    \"\"\" Transformer block: communication followed by computation \"\"\"\n",
        "\n",
        "    def __init__(self, n_embd, n_head):\n",
        "        # n_embd: embedding dimension, n_head: the number of heads we'd like\n",
        "        super().__init__()\n",
        "        head_size = n_embd // n_head\n",
        "        self.sa = MultiHeadAttention(n_head, head_size)\n",
        "        self.ffwd = FeedFoward(n_embd)\n",
        "        self.ln1 = nn.LayerNorm(n_embd)\n",
        "        self.ln2 = nn.LayerNorm(n_embd)\n",
        "\n",
        "    def forward(self, x):\n",
        "        x = x + self.sa(self.ln1(x))\n",
        "        x = x + self.ffwd(self.ln2(x))\n",
        "        return x\n",
        "\n",
        "# super simple bigram model\n",
        "class BigramLanguageModel(nn.Module):\n",
        "\n",
        "    def __init__(self):\n",
        "        super().__init__()\n",
        "        # each token directly reads off the logits for the next token from a lookup table\n",
        "        self.token_embedding_table = nn.Embedding(vocab_size, n_embd)\n",
        "        self.position_embedding_table = nn.Embedding(block_size, n_embd)\n",
        "        self.blocks = nn.Sequential(*[Block(n_embd, n_head=n_head) for _ in range(n_layer)])\n",
        "        self.ln_f = nn.LayerNorm(n_embd) # final layer norm\n",
        "        self.lm_head = nn.Linear(n_embd, vocab_size)\n",
        "\n",
        "    def forward(self, idx, targets=None):\n",
        "        B, T = idx.shape\n",
        "\n",
        "        # idx and targets are both (B,T) tensor of integers\n",
        "        tok_emb = self.token_embedding_table(idx) # (B,T,C)\n",
        "        pos_emb = self.position_embedding_table(torch.arange(T, device=device)) # (T,C)\n",
        "        x = tok_emb + pos_emb # (B,T,C)\n",
        "        x = self.blocks(x) # (B,T,C)\n",
        "        x = self.ln_f(x) # (B,T,C)\n",
        "        logits = self.lm_head(x) # (B,T,vocab_size)\n",
        "\n",
        "        if targets is None:\n",
        "            loss = None\n",
        "        else:\n",
        "            B, T, C = logits.shape\n",
        "            logits = logits.view(B*T, C)\n",
        "            targets = targets.view(B*T)\n",
        "            loss = F.cross_entropy(logits, targets)\n",
        "\n",
        "        return logits, loss\n",
        "\n",
        "    def generate(self, idx, max_new_tokens):\n",
        "        # idx is (B, T) array of indices in the current context\n",
        "        for _ in range(max_new_tokens):\n",
        "            # crop idx to the last block_size tokens\n",
        "            idx_cond = idx[:, -block_size:]\n",
        "            # get the predictions\n",
        "            logits, loss = self(idx_cond)\n",
        "            # focus only on the last time step\n",
        "            logits = logits[:, -1, :] # becomes (B, C)\n",
        "            # apply softmax to get probabilities\n",
        "            probs = F.softmax(logits, dim=-1) # (B, C)\n",
        "            # sample from the distribution\n",
        "            idx_next = torch.multinomial(probs, num_samples=1) # (B, 1)\n",
        "            # append sampled index to the running sequence\n",
        "            idx = torch.cat((idx, idx_next), dim=1) # (B, T+1)\n",
        "        return idx\n",
        "\n",
        "model = BigramLanguageModel()\n",
        "m = model.to(device)\n",
        "# print the number of parameters in the model\n",
        "print(sum(p.numel() for p in m.parameters())/1e6, 'M parameters')\n",
        "\n",
        "# create a PyTorch optimizer\n",
        "optimizer = torch.optim.AdamW(model.parameters(), lr=learning_rate)\n",
        "\n",
        "for iter in range(max_iters):\n",
        "\n",
        "    # every once in a while evaluate the loss on train and val sets\n",
        "    if iter % eval_interval == 0 or iter == max_iters - 1:\n",
        "        losses = estimate_loss()\n",
        "        print(f\"step {iter}: train loss {losses['train']:.4f}, val loss {losses['val']:.4f}\")\n",
        "\n",
        "    # sample a batch of data\n",
        "    xb, yb = get_batch('train')\n",
        "\n",
        "    # evaluate the loss\n",
        "    logits, loss = model(xb, yb)\n",
        "    optimizer.zero_grad(set_to_none=True)\n",
        "    loss.backward()\n",
        "    optimizer.step()\n",
        "\n",
        "# generate from the model\n",
        "context = torch.zeros((1, 1), dtype=torch.long, device=device)\n",
        "print(decode(m.generate(context, max_new_tokens=2000)[0].tolist()))\n"
      ]
    },
    {
      "cell_type": "code",
      "execution_count": null,
      "metadata": {
        "id": "fjjvMifYZf7x"
      },
      "outputs": [],
      "source": []
    }
  ],
  "metadata": {
    "colab": {
      "provenance": []
    },
    "kernelspec": {
      "display_name": "ex_env",
      "language": "python",
      "name": "ex_env"
    },
    "language_info": {
      "codemirror_mode": {
        "name": "ipython",
        "version": 3
      },
      "file_extension": ".py",
      "mimetype": "text/x-python",
      "name": "python",
      "nbconvert_exporter": "python",
      "pygments_lexer": "ipython3",
      "version": "3.6.13"
    }
  },
  "nbformat": 4,
  "nbformat_minor": 0
}
